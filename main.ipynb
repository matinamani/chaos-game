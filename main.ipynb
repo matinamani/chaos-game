{
 "cells": [
  {
   "cell_type": "code",
   "execution_count": null,
   "metadata": {},
   "outputs": [],
   "source": [
    "import matplotlib.pyplot as plt\n",
    "import numpy as np"
   ]
  },
  {
   "cell_type": "code",
   "execution_count": null,
   "metadata": {},
   "outputs": [],
   "source": [
    "def area(p1, p2, p3):\n",
    "    return abs((p1[0] * (p2[1] - p3[1])) +\n",
    "               (p2[0] * (p3[1] - p1[1])) +\n",
    "               (p3[0] * (p1[1] - p2[1]))) / 2\n",
    "\n",
    "\n",
    "def is_triangle(p1, p2, p3):\n",
    "    a = np.sqrt(((p3[0] - p2[0])**2) + (p3[1] - p2[1])**2)\n",
    "    b = np.sqrt(((p3[0] - p1[0])**2) + (p3[1] - p1[1])**2)\n",
    "    c = np.sqrt(((p1[0] - p2[0])**2) + (p1[1] - p2[1])**2)\n",
    "    return True if max(a, b, c) < a + b + c - max(a, b, c) else False\n",
    "\n",
    "\n",
    "def in_triangle(t, p):\n",
    "    p1 = t['p1']\n",
    "    p2 = t['p2']\n",
    "    p3 = t['p3']\n",
    "\n",
    "    return True if area(p1, p2, p) + area(p1, p3, p) + \\\n",
    "        area(p2, p3, p) == area(p1, p2, p3)else False\n",
    "\n",
    "\n",
    "def mid_point(p1, p2):\n",
    "    return ((p1[0] + p2[0]) / 2, (p1[1] + p2[1]) / 2)\n",
    "\n",
    "\n",
    "def print_chaos(t, n=100):\n",
    "    threshold = max(\n",
    "        t['p1'][0],\n",
    "        t['p2'][0],\n",
    "        t['p3'][0],\n",
    "        t['p1'][1],\n",
    "        t['p2'][1],\n",
    "        t['p3'][1])\n",
    "    t_points = ['p1', 'p2', 'p3']\n",
    "    x_arr = []\n",
    "    y_arr = []\n",
    "    count = 0\n",
    "    point = (np.random.rand() * threshold, np.random.rand() * threshold)\n",
    "    while not in_triangle(t, point):\n",
    "        point = (np.random.rand() * threshold, np.random.rand() * threshold)\n",
    "    for i in range(n):\n",
    "        mid = mid_point(point, t[np.random.choice(t_points)])\n",
    "        x_arr.append(mid[0])\n",
    "        y_arr.append(mid[1])\n",
    "        point = mid\n",
    "\n",
    "    fig, ax = plt.subplots(figsize=(15, 10), dpi=600)\n",
    "    ax.scatter(x_arr, y_arr, s=0.1)\n",
    "    ax.scatter([t['p1'][0], t['p2'][0], t['p3'][0]], [\n",
    "               t['p1'][1], t['p2'][1], t['p3'][1]], color='red')\n"
   ]
  },
  {
   "cell_type": "code",
   "execution_count": null,
   "metadata": {},
   "outputs": [],
   "source": [
    "# edit this cell...\n",
    "\n",
    "# triangle points\n",
    "p1 = (0, 0)\n",
    "p2 = (100, 0)\n",
    "p3 = (50, 100)\n",
    "\n",
    "t = {\n",
    "    'p1': p1,\n",
    "    'p2': p2,\n",
    "    'p3': p3\n",
    "}\n",
    "\n",
    "print_chaos(t, 100000)\n"
   ]
  }
 ],
 "metadata": {
  "kernelspec": {
   "display_name": "Python 3.10.8 ('chaos-game-0pYpQkhX')",
   "language": "python",
   "name": "python3"
  },
  "language_info": {
   "codemirror_mode": {
    "name": "ipython",
    "version": 3
   },
   "file_extension": ".py",
   "mimetype": "text/x-python",
   "name": "python",
   "nbconvert_exporter": "python",
   "pygments_lexer": "ipython3",
   "version": "3.10.8"
  },
  "orig_nbformat": 4,
  "vscode": {
   "interpreter": {
    "hash": "3a45b165ec3350d6ba3768d6ca7a4bd09a8ffe671816b648972e195451e3e586"
   }
  }
 },
 "nbformat": 4,
 "nbformat_minor": 2
}
